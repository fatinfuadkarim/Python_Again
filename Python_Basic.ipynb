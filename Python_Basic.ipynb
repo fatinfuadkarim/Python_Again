{
  "nbformat": 4,
  "nbformat_minor": 0,
  "metadata": {
    "colab": {
      "provenance": [],
      "authorship_tag": "ABX9TyNi/mIZqnBCFzMYmHWfeW9h",
      "include_colab_link": true
    },
    "kernelspec": {
      "name": "python3",
      "display_name": "Python 3"
    },
    "language_info": {
      "name": "python"
    }
  },
  "cells": [
    {
      "cell_type": "markdown",
      "metadata": {
        "id": "view-in-github",
        "colab_type": "text"
      },
      "source": [
        "<a href=\"https://colab.research.google.com/github/fatinfuadkarim/Python_Again/blob/main/Python_Basic.ipynb\" target=\"_parent\"><img src=\"https://colab.research.google.com/assets/colab-badge.svg\" alt=\"Open In Colab\"/></a>"
      ]
    },
    {
      "cell_type": "code",
      "source": [
        "#T(2.1)\n",
        "#Create variables for your name, age, and favorite color, then print them with descriptive labels.\n",
        "name=\"Fatin Fuad Karim\"\n",
        "age=28\n",
        "Fav_Colour=\"Blue\"\n",
        "#labeling\n",
        "print(\"Name:\", name)\n",
        "print(\"Age:\", age)\n",
        "print(\"Favorite COlour:\", Fav_Colour)"
      ],
      "metadata": {
        "colab": {
          "base_uri": "https://localhost:8080/"
        },
        "id": "WIil4PVPFS7M",
        "outputId": "15f42a14-ed8e-44a4-b3bf-e053b14d22cb"
      },
      "execution_count": null,
      "outputs": [
        {
          "output_type": "stream",
          "name": "stdout",
          "text": [
            "Name: Fatin Fuad Karim\n",
            "Age: 28\n",
            "Favorite COlour: Blue\n"
          ]
        }
      ]
    },
    {
      "cell_type": "code",
      "source": [],
      "metadata": {
        "id": "IYoJKfVbGHAQ"
      },
      "execution_count": null,
      "outputs": []
    }
  ]
}