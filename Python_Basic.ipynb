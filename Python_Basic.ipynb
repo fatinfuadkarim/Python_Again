{
  "nbformat": 4,
  "nbformat_minor": 0,
  "metadata": {
    "colab": {
      "provenance": [],
      "authorship_tag": "ABX9TyMZk3DbkqbZiB79qvPoMQDf",
      "include_colab_link": true
    },
    "kernelspec": {
      "name": "python3",
      "display_name": "Python 3"
    },
    "language_info": {
      "name": "python"
    }
  },
  "cells": [
    {
      "cell_type": "markdown",
      "metadata": {
        "id": "view-in-github",
        "colab_type": "text"
      },
      "source": [
        "<a href=\"https://colab.research.google.com/github/fatinfuadkarim/Python_Again/blob/main/Python_Basic.ipynb\" target=\"_parent\"><img src=\"https://colab.research.google.com/assets/colab-badge.svg\" alt=\"Open In Colab\"/></a>"
      ]
    },
    {
      "cell_type": "code",
      "source": [
        "#T(2.1)\n",
        "#Create variables for your name, age, and favorite color, then print them with descriptive labels.\n",
        "name=\"Fatin Fuad Karim\"\n",
        "age=28\n",
        "Fav_Colour=\"Blue\"\n",
        "#labeling\n",
        "print(\"Name:\", name)\n",
        "print(\"Age:\", age)\n",
        "print(\"Favorite COlour:\", Fav_Colour)\n",
        "\n"
      ],
      "metadata": {
        "colab": {
          "base_uri": "https://localhost:8080/"
        },
        "id": "WIil4PVPFS7M",
        "outputId": "f808b445-1c72-436b-ac34-778e1beb502d"
      },
      "execution_count": null,
      "outputs": [
        {
          "output_type": "stream",
          "name": "stdout",
          "text": [
            "Name: Fatin Fuad Karim\n",
            "Age: 28\n",
            "Favorite COlour: Blue\n"
          ]
        }
      ]
    },
    {
      "cell_type": "code",
      "source": [
        "#T(2.2)\n",
        "#Try it yourself: Create one variable of each type and use the type() function to verify its type.\n",
        "\n",
        "name=\"Fatin Fuad Karim\"\n",
        "age=28\n",
        "nick_name=\"Fatin28\"\n",
        "experince=2.5\n",
        "Job_Holder=True\n",
        "\n",
        "print(type(name))\n",
        "print(type(age))\n",
        "print(type(nick_name))\n",
        "print(type(experince))\n",
        "print(type(Job_Holder))"
      ],
      "metadata": {
        "colab": {
          "base_uri": "https://localhost:8080/"
        },
        "id": "05ryhAIyh1O9",
        "outputId": "ad4c5b0f-880b-4774-bfed-8f42804b10de"
      },
      "execution_count": null,
      "outputs": [
        {
          "output_type": "stream",
          "name": "stdout",
          "text": [
            "<class 'str'>\n",
            "<class 'int'>\n",
            "<class 'str'>\n",
            "<class 'float'>\n",
            "<class 'bool'>\n"
          ]
        }
      ]
    },
    {
      "cell_type": "code",
      "source": [
        "#2.3. Try it yourself: Calculate the area and perimeter of a rectangle with length 7 and width 5.\n",
        "\n",
        "length=7\n",
        "width=5\n",
        "area=length*width\n",
        "perimeter=2*(length+width)\n",
        "print(\"Area:\",area)\n",
        "print(\"Perimeter:\",perimeter)"
      ],
      "metadata": {
        "id": "GIYs2JtHTsZ-",
        "colab": {
          "base_uri": "https://localhost:8080/"
        },
        "outputId": "2569f9a7-3ad4-42b8-debc-d0b253632c47"
      },
      "execution_count": null,
      "outputs": [
        {
          "output_type": "stream",
          "name": "stdout",
          "text": [
            "Area: 35\n",
            "Perimeter: 24\n"
          ]
        }
      ]
    },
    {
      "cell_type": "code",
      "source": [
        "#2.4. Try it yourself: Create a list of 5 Bangladeshi foods, then access the first and last elements.\n",
        "Deshi_Foods=[\"Biriyani\",\"Kacchi\",\"Vorta\",\"Daal\"]\n",
        "print(\"First Element:\",Deshi_Foods[0])\n",
        "print(\"Last Element:\",Deshi_Foods[3])"
      ],
      "metadata": {
        "colab": {
          "base_uri": "https://localhost:8080/"
        },
        "id": "YEfbcnh_spoG",
        "outputId": "e7520e4e-f2af-40e9-a496-5f26a3f6a5bd"
      },
      "execution_count": null,
      "outputs": [
        {
          "output_type": "stream",
          "name": "stdout",
          "text": [
            "First Element: Biriyani\n",
            "Last Element: Daal\n"
          ]
        }
      ]
    },
    {
      "cell_type": "code",
      "source": [
        "#2.5 Try it yourself: Create a list of 5 numbers, add a new number, remove one, and then sort the list.\n",
        "CSE_Subject=[\"Data Structure\",\"Database Management\",\"Discrete Mathematics\",\"Digital Logic\",\"Operating Systems Design\"]\n",
        "CSE_Subject.insert(5,\"Compiler Construction\")\n",
        "CSE_Subject.remove(\"Digital Logic\")\n",
        "print(\"CSE SUbjects Are:\",CSE_Subject)"
      ],
      "metadata": {
        "colab": {
          "base_uri": "https://localhost:8080/"
        },
        "id": "v6nbhapluc9E",
        "outputId": "f800fb2c-ba2f-4366-d3c7-2ccd05926dd8"
      },
      "execution_count": null,
      "outputs": [
        {
          "output_type": "stream",
          "name": "stdout",
          "text": [
            "CSE SUbjects Are: ['Data Structure', 'Database Management', 'Discrete Mathematics', 'Operating Systems Design', 'Compiler Construction']\n"
          ]
        }
      ]
    },
    {
      "cell_type": "code",
      "source": [],
      "metadata": {
        "id": "xzWBH78K678u"
      },
      "execution_count": null,
      "outputs": []
    },
    {
      "cell_type": "code",
      "source": [
        "#2.6 Try it yourself: Create a dictionary about yourself with at least 4 key-value pairs.\n",
        "overview={\n",
        "    \"Name\":\"Fatin\",\n",
        "    \"Age\" :29,\n",
        "    \"Graduation\":\"NSU\",\n",
        "    \"Current Status\":\"Job Holder\",\n",
        "    \"Institution\":\"Southeast Bank PLC.\",\n",
        "    \"Skills\": [\"IT Audit\", \"Network Administration\", \"Database Administration\"]\n",
        "}\n",
        "if \"Current Status\" in overview:\n",
        "  print(\"Southeast Bank PLC.\")\n",
        "else:\n",
        "  print(\"No Job found\")\n"
      ],
      "metadata": {
        "colab": {
          "base_uri": "https://localhost:8080/"
        },
        "id": "kWRhfnSg3VMY",
        "outputId": "0ba88fcd-a864-406e-a192-17958332e720"
      },
      "execution_count": null,
      "outputs": [
        {
          "output_type": "stream",
          "name": "stdout",
          "text": [
            "Southeast Bank PLC.\n"
          ]
        }
      ]
    },
    {
      "cell_type": "code",
      "source": [
        "#2.7 Try it yourself: Create a tuple with the latitude and longitude of a famous place in Bangladesh.\n",
        "place=\"Cox's Bazar\"\n",
        "coordinates=(21.42, 92.00)\n",
        "print(\"Location:\",place)\n",
        "print(\"latitude and longitude:\",coordinates)"
      ],
      "metadata": {
        "colab": {
          "base_uri": "https://localhost:8080/"
        },
        "id": "PoKz-l5La90J",
        "outputId": "97cee83f-a4d3-4500-ae90-eea95024627f"
      },
      "execution_count": null,
      "outputs": [
        {
          "output_type": "stream",
          "name": "stdout",
          "text": [
            "Location: Cox's Bazar\n",
            "latitude and longitude: (21.42, 92.0)\n"
          ]
        }
      ]
    },
    {
      "cell_type": "code",
      "source": [
        "#2.8 Try it yourself: Create two sets of colors and find their union and intersection.\n",
        "Bright_Colour=[\"Red\",\"Yellow\",\"Pink\",\"Lemon\",\"Gray\"]\n",
        "Deep_Colour=[\"Blue\",\"Black\",\"Maroon\",\"Purple\",\"Gray\"]\n",
        "Bright_Colour.remove(\"Red\")\n",
        "Bright_Colour.insert(0,\"Sky\")\n",
        "print(\"Bright_Colour:\",Bright_Colour)\n",
        "print(\"Deep_Colour:\",Deep_Colour)\n",
        "\n",
        "Common= set(Bright_Colour) | set(Deep_Colour)\n",
        "Uncommon= set(Bright_Colour) & set(Deep_Colour)\n",
        "print(\"Common Colours:\",Common)\n",
        "print(\"Uncommon Colours:\",Uncommon)"
      ],
      "metadata": {
        "colab": {
          "base_uri": "https://localhost:8080/"
        },
        "id": "9brFRFLFjSd9",
        "outputId": "d720ecff-14a8-4d94-b69c-5b42e9ff7955"
      },
      "execution_count": 21,
      "outputs": [
        {
          "output_type": "stream",
          "name": "stdout",
          "text": [
            "Bright_Colour: ['Sky', 'Yellow', 'Pink', 'Lemon', 'Gray']\n",
            "Deep_Colour: ['Blue', 'Black', 'Maroon', 'Purple', 'Gray']\n",
            "Common Colours: {'Lemon', 'Maroon', 'Yellow', 'Purple', 'Black', 'Sky', 'Pink', 'Gray', 'Blue'}\n",
            "Uncommon Colours: {'Gray'}\n"
          ]
        }
      ]
    },
    {
      "cell_type": "code",
      "source": [
        "#2.9 Try it yourself: Write a program that checks if a number is positive, negative, or zero.\n",
        "number=int(input(\"Enter Your Number:\"))\n",
        "\n",
        "if number >=1:\n",
        "  number=\"Positive\"\n",
        "elif number == 0:\n",
        "  number=\"Zero\"\n",
        "elif number <=1:\n",
        "  number=\"Negative\"\n",
        "else:\n",
        "  number=\"Wrong Input\"\n",
        "print (f\"Your Given Input is:\",number)"
      ],
      "metadata": {
        "colab": {
          "base_uri": "https://localhost:8080/"
        },
        "id": "dza2-BjBtE_C",
        "outputId": "8857c834-c4f6-445d-a0c7-41ab6e7214db"
      },
      "execution_count": 27,
      "outputs": [
        {
          "output_type": "stream",
          "name": "stdout",
          "text": [
            "Enter Your Number:50\n",
            "Your Given Input is: Positive\n"
          ]
        }
      ]
    },
    {
      "cell_type": "code",
      "source": [
        "#2.10 Try it yourself: Write a program that checks eligibility for a discount (student AND under 25, OR senior over 60).\n",
        "age=int(input(\"Enter Your Age:\"))\n",
        "student=input(\"Are You A Student? (Yes/No):\")\n",
        "\n",
        "if student==\"yes\" and age<=25:\n",
        "  print(\"Congratulations! As a student You got 65% OFF!\")\n",
        "elif age>=60:\n",
        "  print(\"Congratulations! You got 30% OFF!\")\n",
        "else:\n",
        "  print(\"Sorry! You are not eligible for Discount\")\n"
      ],
      "metadata": {
        "colab": {
          "base_uri": "https://localhost:8080/"
        },
        "id": "SFtDlGO3n2ez",
        "outputId": "6c6b12cf-7e74-4a88-9a67-d00f984c49f3"
      },
      "execution_count": 32,
      "outputs": [
        {
          "output_type": "stream",
          "name": "stdout",
          "text": [
            "Enter Your Age:30\n",
            "Are You A Student? (Yes/No):yes\n",
            "Sorry! You are not eligible for Discount\n"
          ]
        }
      ]
    },
    {
      "cell_type": "code",
      "source": [],
      "metadata": {
        "id": "fFZ_bQA37twp"
      },
      "execution_count": null,
      "outputs": []
    }
  ]
}